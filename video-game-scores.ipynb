{
 "cells": [
  {
   "cell_type": "code",
   "execution_count": 1,
   "id": "713f3e16",
   "metadata": {
    "_cell_guid": "b1076dfc-b9ad-4769-8c92-a6c4dae69d19",
    "_uuid": "8f2839f25d086af736a60e9eeb907d3b93b6e0e5",
    "execution": {
     "iopub.execute_input": "2023-02-28T16:41:20.265896Z",
     "iopub.status.busy": "2023-02-28T16:41:20.265153Z",
     "iopub.status.idle": "2023-02-28T16:41:21.503358Z",
     "shell.execute_reply": "2023-02-28T16:41:21.502312Z"
    },
    "papermill": {
     "duration": 1.252181,
     "end_time": "2023-02-28T16:41:21.507521",
     "exception": false,
     "start_time": "2023-02-28T16:41:20.255340",
     "status": "completed"
    },
    "tags": []
   },
   "outputs": [
    {
     "name": "stdout",
     "output_type": "stream",
     "text": [
      "/kaggle/input/all-video-game-review-scores-from-gamespotcom/game_review_scores_feb_2023.csv\n"
     ]
    }
   ],
   "source": [
    "# This Python 3 environment comes with many helpful analytics libraries installed\n",
    "# It is defined by the kaggle/python Docker image: https://github.com/kaggle/docker-python\n",
    "# For example, here's several helpful packages to load\n",
    "\n",
    "import numpy as np # linear algebra\n",
    "import pandas as pd # data processing, CSV file I/O (e.g. pd.read_csv)\n",
    "import matplotlib.pyplot as plt\n",
    "import seaborn as sns\n",
    "%matplotlib inline\n",
    "# Input data files are available in the read-only \"../input/\" directory\n",
    "# For example, running this (by clicking run or pressing Shift+Enter) will list all files under the input directory\n",
    "\n",
    "import os\n",
    "for dirname, _, filenames in os.walk('/kaggle/input'):\n",
    "    for filename in filenames:\n",
    "        print(os.path.join(dirname, filename))\n",
    "\n",
    "# You can write up to 20GB to the current directory (/kaggle/working/) that gets preserved as output when you create a version using \"Save & Run All\" \n",
    "# You can also write temporary files to /kaggle/temp/, but they won't be saved outside of the current session"
   ]
  },
  {
   "cell_type": "markdown",
   "id": "1b69f9f7",
   "metadata": {
    "papermill": {
     "duration": 0.006331,
     "end_time": "2023-02-28T16:41:21.521339",
     "exception": false,
     "start_time": "2023-02-28T16:41:21.515008",
     "status": "completed"
    },
    "tags": []
   },
   "source": [
    "## Loading data, cleaning it, and exploring it"
   ]
  },
  {
   "cell_type": "code",
   "execution_count": 2,
   "id": "2e3cbce7",
   "metadata": {
    "execution": {
     "iopub.execute_input": "2023-02-28T16:41:21.536752Z",
     "iopub.status.busy": "2023-02-28T16:41:21.536062Z",
     "iopub.status.idle": "2023-02-28T16:41:21.632896Z",
     "shell.execute_reply": "2023-02-28T16:41:21.631872Z"
    },
    "papermill": {
     "duration": 0.107992,
     "end_time": "2023-02-28T16:41:21.635878",
     "exception": false,
     "start_time": "2023-02-28T16:41:21.527886",
     "status": "completed"
    },
    "tags": []
   },
   "outputs": [
    {
     "name": "stdout",
     "output_type": "stream",
     "text": [
      "<class 'pandas.core.frame.DataFrame'>\n",
      "Int64Index: 15351 entries, 0 to 15375\n",
      "Data columns (total 7 columns):\n",
      " #   Column          Non-Null Count  Dtype  \n",
      "---  ------          --------------  -----  \n",
      " 0   title           15351 non-null  object \n",
      " 1   score           15351 non-null  float64\n",
      " 2   score_text      15351 non-null  object \n",
      " 3   platforms       15351 non-null  object \n",
      " 4   no_of_comments  15351 non-null  int64  \n",
      " 5   no_of_upvotes   15351 non-null  int64  \n",
      " 6   updated_on      15351 non-null  object \n",
      "dtypes: float64(1), int64(2), object(4)\n",
      "memory usage: 959.4+ KB\n"
     ]
    }
   ],
   "source": [
    "#Loading Data, clearing null values, examining datatypes\n",
    "df = pd.read_csv(\"/kaggle/input/all-video-game-review-scores-from-gamespotcom/game_review_scores_feb_2023.csv\")\n",
    "df = df.dropna()\n",
    "df.info()"
   ]
  },
  {
   "cell_type": "markdown",
   "id": "f7aa8a2c",
   "metadata": {
    "papermill": {
     "duration": 0.006894,
     "end_time": "2023-02-28T16:41:21.649693",
     "exception": false,
     "start_time": "2023-02-28T16:41:21.642799",
     "status": "completed"
    },
    "tags": []
   },
   "source": [
    "### Creating Datetime column to better manipulate around year of release"
   ]
  },
  {
   "cell_type": "code",
   "execution_count": 3,
   "id": "ef6fad17",
   "metadata": {
    "execution": {
     "iopub.execute_input": "2023-02-28T16:41:21.665135Z",
     "iopub.status.busy": "2023-02-28T16:41:21.664707Z",
     "iopub.status.idle": "2023-02-28T16:41:24.100154Z",
     "shell.execute_reply": "2023-02-28T16:41:24.098488Z"
    },
    "papermill": {
     "duration": 2.44661,
     "end_time": "2023-02-28T16:41:24.103048",
     "exception": false,
     "start_time": "2023-02-28T16:41:21.656438",
     "status": "completed"
    },
    "tags": []
   },
   "outputs": [
    {
     "data": {
      "text/html": [
       "<div>\n",
       "<style scoped>\n",
       "    .dataframe tbody tr th:only-of-type {\n",
       "        vertical-align: middle;\n",
       "    }\n",
       "\n",
       "    .dataframe tbody tr th {\n",
       "        vertical-align: top;\n",
       "    }\n",
       "\n",
       "    .dataframe thead th {\n",
       "        text-align: right;\n",
       "    }\n",
       "</style>\n",
       "<table border=\"1\" class=\"dataframe\">\n",
       "  <thead>\n",
       "    <tr style=\"text-align: right;\">\n",
       "      <th></th>\n",
       "      <th>title</th>\n",
       "      <th>score</th>\n",
       "      <th>score_text</th>\n",
       "      <th>platforms</th>\n",
       "      <th>no_of_comments</th>\n",
       "      <th>no_of_upvotes</th>\n",
       "      <th>updated_on</th>\n",
       "      <th>year</th>\n",
       "    </tr>\n",
       "  </thead>\n",
       "  <tbody>\n",
       "    <tr>\n",
       "      <th>2</th>\n",
       "      <td>NFL 2K</td>\n",
       "      <td>9.9</td>\n",
       "      <td>Superb</td>\n",
       "      <td>DC</td>\n",
       "      <td>3</td>\n",
       "      <td>2</td>\n",
       "      <td>2000-04-28 20:26:00</td>\n",
       "      <td>2000</td>\n",
       "    </tr>\n",
       "    <tr>\n",
       "      <th>4</th>\n",
       "      <td>Tony Hawk's Pro Skater 2</td>\n",
       "      <td>9.9</td>\n",
       "      <td>Superb</td>\n",
       "      <td>DC</td>\n",
       "      <td>4</td>\n",
       "      <td>0</td>\n",
       "      <td>2000-11-07 17:57:00</td>\n",
       "      <td>2000</td>\n",
       "    </tr>\n",
       "    <tr>\n",
       "      <th>5</th>\n",
       "      <td>Tekken 3</td>\n",
       "      <td>9.9</td>\n",
       "      <td>Superb</td>\n",
       "      <td>PS</td>\n",
       "      <td>3</td>\n",
       "      <td>1092</td>\n",
       "      <td>1998-03-30 00:00:00</td>\n",
       "      <td>1998</td>\n",
       "    </tr>\n",
       "    <tr>\n",
       "      <th>6</th>\n",
       "      <td>Tony Hawk's Pro Skater 2</td>\n",
       "      <td>9.9</td>\n",
       "      <td>Superb</td>\n",
       "      <td>PS</td>\n",
       "      <td>1</td>\n",
       "      <td>13</td>\n",
       "      <td>2000-09-21 20:52:00</td>\n",
       "      <td>2000</td>\n",
       "    </tr>\n",
       "    <tr>\n",
       "      <th>7</th>\n",
       "      <td>Perfect Dark</td>\n",
       "      <td>9.9</td>\n",
       "      <td>Superb</td>\n",
       "      <td>N64</td>\n",
       "      <td>7</td>\n",
       "      <td>7</td>\n",
       "      <td>2000-05-22 17:43:00</td>\n",
       "      <td>2000</td>\n",
       "    </tr>\n",
       "    <tr>\n",
       "      <th>...</th>\n",
       "      <td>...</td>\n",
       "      <td>...</td>\n",
       "      <td>...</td>\n",
       "      <td>...</td>\n",
       "      <td>...</td>\n",
       "      <td>...</td>\n",
       "      <td>...</td>\n",
       "      <td>...</td>\n",
       "    </tr>\n",
       "    <tr>\n",
       "      <th>15365</th>\n",
       "      <td>Fox Sports Golf '99</td>\n",
       "      <td>1.4</td>\n",
       "      <td>Abysmal</td>\n",
       "      <td>PS</td>\n",
       "      <td>1</td>\n",
       "      <td>3</td>\n",
       "      <td>2000-04-28 23:05:00</td>\n",
       "      <td>2000</td>\n",
       "    </tr>\n",
       "    <tr>\n",
       "      <th>15367</th>\n",
       "      <td>Superman</td>\n",
       "      <td>1.3</td>\n",
       "      <td>Abysmal</td>\n",
       "      <td>N64</td>\n",
       "      <td>15</td>\n",
       "      <td>23</td>\n",
       "      <td>1999-06-08 12:16:00</td>\n",
       "      <td>1999</td>\n",
       "    </tr>\n",
       "    <tr>\n",
       "      <th>15369</th>\n",
       "      <td>Gods and Generals</td>\n",
       "      <td>1.2</td>\n",
       "      <td>Abysmal</td>\n",
       "      <td>PC</td>\n",
       "      <td>4</td>\n",
       "      <td>13</td>\n",
       "      <td>2003-03-18 14:31:00</td>\n",
       "      <td>2003</td>\n",
       "    </tr>\n",
       "    <tr>\n",
       "      <th>15370</th>\n",
       "      <td>Dragon Ball Z Ultimate Battle 22</td>\n",
       "      <td>1.2</td>\n",
       "      <td>Abysmal</td>\n",
       "      <td>PS</td>\n",
       "      <td>4</td>\n",
       "      <td>17</td>\n",
       "      <td>2003-03-25 16:12:00</td>\n",
       "      <td>2003</td>\n",
       "    </tr>\n",
       "    <tr>\n",
       "      <th>15371</th>\n",
       "      <td>Big Rigs: Over the Road Racing</td>\n",
       "      <td>1.0</td>\n",
       "      <td>Abysmal</td>\n",
       "      <td>PC</td>\n",
       "      <td>26</td>\n",
       "      <td>413</td>\n",
       "      <td>2004-01-14 17:45:00</td>\n",
       "      <td>2004</td>\n",
       "    </tr>\n",
       "  </tbody>\n",
       "</table>\n",
       "<p>5228 rows × 8 columns</p>\n",
       "</div>"
      ],
      "text/plain": [
       "                                  title  score score_text platforms  \\\n",
       "2                                NFL 2K    9.9     Superb        DC   \n",
       "4              Tony Hawk's Pro Skater 2    9.9     Superb        DC   \n",
       "5                              Tekken 3    9.9     Superb        PS   \n",
       "6              Tony Hawk's Pro Skater 2    9.9     Superb        PS   \n",
       "7                          Perfect Dark    9.9     Superb       N64   \n",
       "...                                 ...    ...        ...       ...   \n",
       "15365               Fox Sports Golf '99    1.4    Abysmal        PS   \n",
       "15367                          Superman    1.3    Abysmal       N64   \n",
       "15369                 Gods and Generals    1.2    Abysmal        PC   \n",
       "15370  Dragon Ball Z Ultimate Battle 22    1.2    Abysmal        PS   \n",
       "15371    Big Rigs: Over the Road Racing    1.0    Abysmal        PC   \n",
       "\n",
       "       no_of_comments  no_of_upvotes          updated_on  year  \n",
       "2                   3              2 2000-04-28 20:26:00  2000  \n",
       "4                   4              0 2000-11-07 17:57:00  2000  \n",
       "5                   3           1092 1998-03-30 00:00:00  1998  \n",
       "6                   1             13 2000-09-21 20:52:00  2000  \n",
       "7                   7              7 2000-05-22 17:43:00  2000  \n",
       "...               ...            ...                 ...   ...  \n",
       "15365               1              3 2000-04-28 23:05:00  2000  \n",
       "15367              15             23 1999-06-08 12:16:00  1999  \n",
       "15369               4             13 2003-03-18 14:31:00  2003  \n",
       "15370               4             17 2003-03-25 16:12:00  2003  \n",
       "15371              26            413 2004-01-14 17:45:00  2004  \n",
       "\n",
       "[5228 rows x 8 columns]"
      ]
     },
     "execution_count": 3,
     "metadata": {},
     "output_type": "execute_result"
    }
   ],
   "source": [
    "# Update 'updated_on' column from object to datetime\n",
    "df['updated_on'] = pd.to_datetime(df['updated_on'])\n",
    "df.head()\n",
    "\n",
    "# Creating dataframe of 'good' games\n",
    "df_good = df[df.score >=7]\n",
    "#df_good\n",
    "# Adding a year column to call to create new dataframe of games released in the HD era and before\n",
    "df['year'] = pd.DatetimeIndex(df['updated_on']).year\n",
    "df_hd = df[df.year >= 2005]\n",
    "df_hd\n",
    "\n",
    "df_sd = df[df.year < 2005]\n",
    "df_sd"
   ]
  },
  {
   "cell_type": "markdown",
   "id": "37aa79cb",
   "metadata": {
    "papermill": {
     "duration": 0.006666,
     "end_time": "2023-02-28T16:41:24.117100",
     "exception": false,
     "start_time": "2023-02-28T16:41:24.110434",
     "status": "completed"
    },
    "tags": []
   },
   "source": [
    "## Plotting Data"
   ]
  },
  {
   "cell_type": "code",
   "execution_count": 4,
   "id": "1e2cfa88",
   "metadata": {
    "execution": {
     "iopub.execute_input": "2023-02-28T16:41:24.133123Z",
     "iopub.status.busy": "2023-02-28T16:41:24.132705Z",
     "iopub.status.idle": "2023-02-28T16:41:24.401930Z",
     "shell.execute_reply": "2023-02-28T16:41:24.400734Z"
    },
    "papermill": {
     "duration": 0.280823,
     "end_time": "2023-02-28T16:41:24.404913",
     "exception": false,
     "start_time": "2023-02-28T16:41:24.124090",
     "status": "completed"
    },
    "tags": []
   },
   "outputs": [
    {
     "data": {
      "text/plain": [
       "(array([  50.,  199.,  446.,  912., 1311., 2241., 3635., 3925., 2277.,\n",
       "         355.]),\n",
       " array([ 1. ,  1.9,  2.8,  3.7,  4.6,  5.5,  6.4,  7.3,  8.2,  9.1, 10. ]),\n",
       " <BarContainer object of 10 artists>)"
      ]
     },
     "execution_count": 4,
     "metadata": {},
     "output_type": "execute_result"
    },
    {
     "data": {
      "image/png": "[encoded data removed]",
      "text/plain": [
       "<Figure size 640x480 with 1 Axes>"
      ]
     },
     "metadata": {},
     "output_type": "display_data"
    }
   ],
   "source": [
    "# Histogram of all game schools\n",
    "plt.hist(df.score, bins=10)"
   ]
  },
  {
   "cell_type": "code",
   "execution_count": 5,
   "id": "a7a2e5be",
   "metadata": {
    "execution": {
     "iopub.execute_input": "2023-02-28T16:41:24.422016Z",
     "iopub.status.busy": "2023-02-28T16:41:24.421040Z",
     "iopub.status.idle": "2023-02-28T16:41:24.655767Z",
     "shell.execute_reply": "2023-02-28T16:41:24.654440Z"
    },
    "papermill": {
     "duration": 0.246152,
     "end_time": "2023-02-28T16:41:24.658413",
     "exception": false,
     "start_time": "2023-02-28T16:41:24.412261",
     "status": "completed"
    },
    "tags": []
   },
   "outputs": [
    {
     "data": {
      "text/plain": [
       "(array([  20.,  138.,  304.,  614.,  813., 1522., 2478., 2707., 1396.,\n",
       "         131.]),\n",
       " array([ 1. ,  1.9,  2.8,  3.7,  4.6,  5.5,  6.4,  7.3,  8.2,  9.1, 10. ]),\n",
       " <BarContainer object of 10 artists>)"
      ]
     },
     "execution_count": 5,
     "metadata": {},
     "output_type": "execute_result"
    },
    {
     "data": {
      "image/png": "[encoded data removed]",
      "text/plain": [
       "<Figure size 640x480 with 1 Axes>"
      ]
     },
     "metadata": {},
     "output_type": "display_data"
    }
   ],
   "source": [
    "# histogram of game scores for games starting at 2005\n",
    "plt.hist(df_hd['score'])"
   ]
  },
  {
   "cell_type": "code",
   "execution_count": 6,
   "id": "55f04770",
   "metadata": {
    "execution": {
     "iopub.execute_input": "2023-02-28T16:41:24.676461Z",
     "iopub.status.busy": "2023-02-28T16:41:24.676047Z",
     "iopub.status.idle": "2023-02-28T16:41:24.909398Z",
     "shell.execute_reply": "2023-02-28T16:41:24.908368Z"
    },
    "papermill": {
     "duration": 0.245419,
     "end_time": "2023-02-28T16:41:24.912161",
     "exception": false,
     "start_time": "2023-02-28T16:41:24.666742",
     "status": "completed"
    },
    "tags": []
   },
   "outputs": [
    {
     "data": {
      "text/plain": [
       "(array([  30.,   61.,  142.,  298.,  498.,  719., 1157., 1218.,  881.,\n",
       "         224.]),\n",
       " array([ 1. ,  1.9,  2.8,  3.7,  4.6,  5.5,  6.4,  7.3,  8.2,  9.1, 10. ]),\n",
       " <BarContainer object of 10 artists>)"
      ]
     },
     "execution_count": 6,
     "metadata": {},
     "output_type": "execute_result"
    },
    {
     "data": {
      "image/png": "[encoded data removed]",
      "text/plain": [
       "<Figure size 640x480 with 1 Axes>"
      ]
     },
     "metadata": {},
     "output_type": "display_data"
    }
   ],
   "source": [
    "# histogram of game scores from before 2005\n",
    "plt.hist(df_sd['score'])"
   ]
  },
  {
   "cell_type": "markdown",
   "id": "c7420056",
   "metadata": {
    "papermill": {
     "duration": 0.007778,
     "end_time": "2023-02-28T16:41:24.928451",
     "exception": false,
     "start_time": "2023-02-28T16:41:24.920673",
     "status": "completed"
    },
    "tags": []
   },
   "source": [
    "### Reactions to histogram\n",
    "Despite being split up by whether the game came out before hd consoles or after, it seems the overall distribution of scores from gamespot has stayed relatively consistant. Although, it does appear that a few more scores closer to 10 were given before 2005 than after, but also there appears to also be more badly reviewed games as well."
   ]
  },
  {
   "cell_type": "markdown",
   "id": "0d7d852a",
   "metadata": {
    "papermill": {
     "duration": 0.008081,
     "end_time": "2023-02-28T16:41:24.945677",
     "exception": false,
     "start_time": "2023-02-28T16:41:24.937596",
     "status": "completed"
    },
    "tags": []
   },
   "source": [
    "## Boxplot of scores per year"
   ]
  },
  {
   "cell_type": "code",
   "execution_count": 7,
   "id": "3a58959e",
   "metadata": {
    "execution": {
     "iopub.execute_input": "2023-02-28T16:41:24.964596Z",
     "iopub.status.busy": "2023-02-28T16:41:24.963277Z",
     "iopub.status.idle": "2023-02-28T16:41:25.309111Z",
     "shell.execute_reply": "2023-02-28T16:41:25.307533Z"
    },
    "papermill": {
     "duration": 0.358576,
     "end_time": "2023-02-28T16:41:25.312389",
     "exception": false,
     "start_time": "2023-02-28T16:41:24.953813",
     "status": "completed"
    },
    "tags": []
   },
   "outputs": [
    {
     "data": {
      "text/plain": [
       "<AxesSubplot:xlabel='year', ylabel='score'>"
      ]
     },
     "execution_count": 7,
     "metadata": {},
     "output_type": "execute_result"
    },
    {
     "data": {
      "image/png": "[encoded data removed]",
      "text/plain": [
       "<Figure size 640x480 with 1 Axes>"
      ]
     },
     "metadata": {},
     "output_type": "display_data"
    }
   ],
   "source": [
    "sns.boxplot(data = df_sd, x='year', y='score')"
   ]
  },
  {
   "cell_type": "markdown",
   "id": "7fe2442a",
   "metadata": {
    "papermill": {
     "duration": 0.008456,
     "end_time": "2023-02-28T16:41:25.330021",
     "exception": false,
     "start_time": "2023-02-28T16:41:25.321565",
     "status": "completed"
    },
    "tags": []
   },
   "source": [
    "### Before 2005\n",
    "Before 2005, it appears that the values given out were inconsistent compared year by year. the IQR varies and once gaming entered into the new millenium, there were more scores that were low-end outliers but also the lower quantile is higher comparatively to other years."
   ]
  },
  {
   "cell_type": "code",
   "execution_count": 8,
   "id": "e3d6a835",
   "metadata": {
    "execution": {
     "iopub.execute_input": "2023-02-28T16:41:25.349368Z",
     "iopub.status.busy": "2023-02-28T16:41:25.348957Z",
     "iopub.status.idle": "2023-02-28T16:41:25.865440Z",
     "shell.execute_reply": "2023-02-28T16:41:25.864367Z"
    },
    "papermill": {
     "duration": 0.529497,
     "end_time": "2023-02-28T16:41:25.868263",
     "exception": false,
     "start_time": "2023-02-28T16:41:25.338766",
     "status": "completed"
    },
    "tags": []
   },
   "outputs": [
    {
     "data": {
      "text/plain": [
       "<AxesSubplot:xlabel='year', ylabel='score'>"
      ]
     },
     "execution_count": 8,
     "metadata": {},
     "output_type": "execute_result"
    },
    {
     "data": {
      "image/png": "[encoded data removed]",
      "text/plain": [
       "<Figure size 640x480 with 1 Axes>"
      ]
     },
     "metadata": {},
     "output_type": "display_data"
    }
   ],
   "source": [
    "sns.boxplot(data = df_hd, x='year', y = 'score')"
   ]
  },
  {
   "cell_type": "markdown",
   "id": "8741b926",
   "metadata": {
    "papermill": {
     "duration": 0.009397,
     "end_time": "2023-02-28T16:41:25.887370",
     "exception": false,
     "start_time": "2023-02-28T16:41:25.877973",
     "status": "completed"
    },
    "tags": []
   },
   "source": [
    "### After 2005\n",
    "As can be seen, as we get closer to the modern era, the scores given out start to normalize. the upper and lower quantile starts to get conistant, mainly starting at 2010. Around 2020, things look a little abnormal and if context is removed, we'd think games were just better overall that year, but because of the pandemic, games that would be reviewed by a site like this weren't released."
   ]
  },
  {
   "cell_type": "markdown",
   "id": "bdbb59d0",
   "metadata": {
    "papermill": {
     "duration": 0.008969,
     "end_time": "2023-02-28T16:41:25.906189",
     "exception": false,
     "start_time": "2023-02-28T16:41:25.897220",
     "status": "completed"
    },
    "tags": []
   },
   "source": [
    "## Feature Engineering for machine learning\n",
    "Let's have some fun and see if we can fine-tune a regression model that can predict what scores will be based on numerical values. Due to the low dimensionality of this data and the subjective nature of gaming, I don't see this going well, but we're going to try a neural network to see if it can figure it out. Who knows, maybe the NN will see a pattern that I cannot."
   ]
  },
  {
   "cell_type": "markdown",
   "id": "52bfd061",
   "metadata": {
    "papermill": {
     "duration": 0.008737,
     "end_time": "2023-02-28T16:41:25.924235",
     "exception": false,
     "start_time": "2023-02-28T16:41:25.915498",
     "status": "completed"
    },
    "tags": []
   },
   "source": [
    "### Adding columns and creating sets to be tested\n",
    "I decided I wanted to see if the presence of which console the game releases on will affect the outcome of the prediction so I am creating two sets of data to be fed into the NN. The first set has the platforms column completely removed, while the second set has it converted into dummy data. This greatly increases the dimensionality so we'll see if this changes anything."
   ]
  },
  {
   "cell_type": "code",
   "execution_count": 9,
   "id": "5ba72375",
   "metadata": {
    "execution": {
     "iopub.execute_input": "2023-02-28T16:41:25.944495Z",
     "iopub.status.busy": "2023-02-28T16:41:25.944037Z",
     "iopub.status.idle": "2023-02-28T16:41:25.998375Z",
     "shell.execute_reply": "2023-02-28T16:41:25.996793Z"
    },
    "papermill": {
     "duration": 0.068356,
     "end_time": "2023-02-28T16:41:26.001704",
     "exception": false,
     "start_time": "2023-02-28T16:41:25.933348",
     "status": "completed"
    },
    "tags": []
   },
   "outputs": [
    {
     "name": "stdout",
     "output_type": "stream",
     "text": [
      "(15351, 5) (15351, 178) (15351,)\n",
      "0        10.0\n",
      "1        10.0\n",
      "2         9.9\n",
      "3         9.9\n",
      "4         9.9\n",
      "         ... \n",
      "15371     1.0\n",
      "15372     1.0\n",
      "15373     1.0\n",
      "15374     1.0\n",
      "15375     1.0\n",
      "Name: score, Length: 15351, dtype: float64\n",
      "<class 'pandas.core.frame.DataFrame'>\n",
      "Int64Index: 15351 entries, 0 to 15375\n",
      "Data columns (total 5 columns):\n",
      " #   Column          Non-Null Count  Dtype\n",
      "---  ------          --------------  -----\n",
      " 0   no_of_comments  15351 non-null  int64\n",
      " 1   no_of_upvotes   15351 non-null  int64\n",
      " 2   year            15351 non-null  int64\n",
      " 3   month           15351 non-null  int64\n",
      " 4   day             15351 non-null  int64\n",
      "dtypes: int64(5)\n",
      "memory usage: 719.6 KB\n",
      "None\n"
     ]
    }
   ],
   "source": [
    "df['month'] = df['updated_on'].dt.month\n",
    "df['day'] = df['updated_on'].dt.day\n",
    "df_dropped = df.drop(columns=['title', \"score_text\", \"updated_on\"])\n",
    "df_dummies = pd.get_dummies(df_dropped)\n",
    "y = df['score']\n",
    "X = df_dropped.drop(columns = ['score', 'platforms'])\n",
    "X_dummies = df_dummies.drop(columns = 'score')\n",
    "X\n",
    "print(X.shape, X_dummies.shape, y.shape)\n",
    "print(y)\n",
    "print(X.info())"
   ]
  },
  {
   "cell_type": "code",
   "execution_count": 10,
   "id": "5970b3fd",
   "metadata": {
    "execution": {
     "iopub.execute_input": "2023-02-28T16:41:26.023181Z",
     "iopub.status.busy": "2023-02-28T16:41:26.022699Z",
     "iopub.status.idle": "2023-02-28T16:41:35.319257Z",
     "shell.execute_reply": "2023-02-28T16:41:35.317746Z"
    },
    "papermill": {
     "duration": 9.311033,
     "end_time": "2023-02-28T16:41:35.322592",
     "exception": false,
     "start_time": "2023-02-28T16:41:26.011559",
     "status": "completed"
    },
    "tags": []
   },
   "outputs": [],
   "source": [
    "# Loading in packages\n",
    "from keras.models import Sequential\n",
    "from keras.layers import Dense\n",
    "from sklearn.model_selection import train_test_split, cross_val_score, KFold\n",
    "from sklearn.metrics import mean_squared_error"
   ]
  },
  {
   "cell_type": "code",
   "execution_count": 11,
   "id": "a08ebdbb",
   "metadata": {
    "execution": {
     "iopub.execute_input": "2023-02-28T16:41:35.344878Z",
     "iopub.status.busy": "2023-02-28T16:41:35.342941Z",
     "iopub.status.idle": "2023-02-28T16:41:35.368767Z",
     "shell.execute_reply": "2023-02-28T16:41:35.367152Z"
    },
    "papermill": {
     "duration": 0.039794,
     "end_time": "2023-02-28T16:41:35.371759",
     "exception": false,
     "start_time": "2023-02-28T16:41:35.331965",
     "status": "completed"
    },
    "tags": []
   },
   "outputs": [],
   "source": [
    "# Creating training and testing sets for both dataframes\n",
    "X_train, X_test, y_train, y_test = train_test_split(X, y, test_size=.25, random_state=42)\n",
    "X_train_dummy, X_test_dummy, y_train_dummy, y_test_dummy = train_test_split(X_dummies, y, test_size=.25, random_state=42)"
   ]
  },
  {
   "cell_type": "code",
   "execution_count": 12,
   "id": "171ba924",
   "metadata": {
    "execution": {
     "iopub.execute_input": "2023-02-28T16:41:35.392555Z",
     "iopub.status.busy": "2023-02-28T16:41:35.392097Z",
     "iopub.status.idle": "2023-02-28T16:41:35.627264Z",
     "shell.execute_reply": "2023-02-28T16:41:35.625777Z"
    },
    "papermill": {
     "duration": 0.249385,
     "end_time": "2023-02-28T16:41:35.630407",
     "exception": false,
     "start_time": "2023-02-28T16:41:35.381022",
     "status": "completed"
    },
    "tags": []
   },
   "outputs": [],
   "source": [
    "# creating model for data w/o platforms\n",
    "model = Sequential()\n",
    "model.add(Dense(500, input_dim=5, activation='relu'))\n",
    "model.add(Dense(100, activation = 'relu'))\n",
    "model.add(Dense(50, activation='relu'))\n",
    "model.add(Dense(1))\n",
    "#model.summary()"
   ]
  },
  {
   "cell_type": "code",
   "execution_count": 13,
   "id": "6df3bb1f",
   "metadata": {
    "execution": {
     "iopub.execute_input": "2023-02-28T16:41:35.651718Z",
     "iopub.status.busy": "2023-02-28T16:41:35.651019Z",
     "iopub.status.idle": "2023-02-28T16:42:17.579489Z",
     "shell.execute_reply": "2023-02-28T16:42:17.577903Z"
    },
    "papermill": {
     "duration": 41.942571,
     "end_time": "2023-02-28T16:42:17.582460",
     "exception": false,
     "start_time": "2023-02-28T16:41:35.639889",
     "status": "completed"
    },
    "tags": []
   },
   "outputs": [
    {
     "name": "stdout",
     "output_type": "stream",
     "text": [
      "Epoch 1/35\n",
      "360/360 [==============================] - 2s 3ms/step - loss: 257.9570 - mean_squared_error: 257.9570\n",
      "Epoch 2/35\n",
      "360/360 [==============================] - 1s 3ms/step - loss: 96.3638 - mean_squared_error: 96.3638\n",
      "Epoch 3/35\n",
      "360/360 [==============================] - 1s 3ms/step - loss: 134.2250 - mean_squared_error: 134.2250\n",
      "Epoch 4/35\n",
      "360/360 [==============================] - 1s 3ms/step - loss: 142.6609 - mean_squared_error: 142.6609\n",
      "Epoch 5/35\n",
      "360/360 [==============================] - 1s 3ms/step - loss: 22.6897 - mean_squared_error: 22.6897\n",
      "Epoch 6/35\n",
      "360/360 [==============================] - 1s 3ms/step - loss: 5.8569 - mean_squared_error: 5.8569\n",
      "Epoch 7/35\n",
      "360/360 [==============================] - 1s 3ms/step - loss: 7.0967 - mean_squared_error: 7.0967\n",
      "Epoch 8/35\n",
      "360/360 [==============================] - 1s 3ms/step - loss: 3.7295 - mean_squared_error: 3.7295\n",
      "Epoch 9/35\n",
      "360/360 [==============================] - 1s 4ms/step - loss: 4.7058 - mean_squared_error: 4.7058\n",
      "Epoch 10/35\n",
      "360/360 [==============================] - 1s 4ms/step - loss: 12.8561 - mean_squared_error: 12.8561\n",
      "Epoch 11/35\n",
      "360/360 [==============================] - 1s 3ms/step - loss: 18.3088 - mean_squared_error: 18.3088\n",
      "Epoch 12/35\n",
      "360/360 [==============================] - 1s 3ms/step - loss: 7.2433 - mean_squared_error: 7.2433\n",
      "Epoch 13/35\n",
      "360/360 [==============================] - 1s 3ms/step - loss: 5.4184 - mean_squared_error: 5.4184\n",
      "Epoch 14/35\n",
      "360/360 [==============================] - 1s 3ms/step - loss: 7.3993 - mean_squared_error: 7.3993\n",
      "Epoch 15/35\n",
      "360/360 [==============================] - 1s 3ms/step - loss: 4.8969 - mean_squared_error: 4.8969\n",
      "Epoch 16/35\n",
      "360/360 [==============================] - 1s 3ms/step - loss: 4.5683 - mean_squared_error: 4.5683\n",
      "Epoch 17/35\n",
      "360/360 [==============================] - 1s 3ms/step - loss: 2.6559 - mean_squared_error: 2.6559\n",
      "Epoch 18/35\n",
      "360/360 [==============================] - 1s 3ms/step - loss: 2.9802 - mean_squared_error: 2.9802\n",
      "Epoch 19/35\n",
      "360/360 [==============================] - 1s 4ms/step - loss: 2.7934 - mean_squared_error: 2.7934\n",
      "Epoch 20/35\n",
      "360/360 [==============================] - 1s 3ms/step - loss: 2.7353 - mean_squared_error: 2.7353\n",
      "Epoch 21/35\n",
      "360/360 [==============================] - 1s 3ms/step - loss: 2.5827 - mean_squared_error: 2.5827\n",
      "Epoch 22/35\n",
      "360/360 [==============================] - 1s 3ms/step - loss: 2.7785 - mean_squared_error: 2.7785\n",
      "Epoch 23/35\n",
      "360/360 [==============================] - 1s 3ms/step - loss: 3.8839 - mean_squared_error: 3.8839\n",
      "Epoch 24/35\n",
      "360/360 [==============================] - 1s 3ms/step - loss: 3.0981 - mean_squared_error: 3.0981\n",
      "Epoch 25/35\n",
      "360/360 [==============================] - 1s 3ms/step - loss: 2.8479 - mean_squared_error: 2.8479\n",
      "Epoch 26/35\n",
      "360/360 [==============================] - 1s 3ms/step - loss: 2.8240 - mean_squared_error: 2.8240\n",
      "Epoch 27/35\n",
      "360/360 [==============================] - 1s 3ms/step - loss: 2.9834 - mean_squared_error: 2.9834\n",
      "Epoch 28/35\n",
      "360/360 [==============================] - 1s 3ms/step - loss: 2.5516 - mean_squared_error: 2.5516\n",
      "Epoch 29/35\n",
      "360/360 [==============================] - 1s 3ms/step - loss: 2.6198 - mean_squared_error: 2.6198\n",
      "Epoch 30/35\n",
      "360/360 [==============================] - 1s 3ms/step - loss: 2.5871 - mean_squared_error: 2.5871\n",
      "Epoch 31/35\n",
      "360/360 [==============================] - 1s 3ms/step - loss: 2.5931 - mean_squared_error: 2.5931\n",
      "Epoch 32/35\n",
      "360/360 [==============================] - 1s 3ms/step - loss: 2.5825 - mean_squared_error: 2.5825\n",
      "Epoch 33/35\n",
      "360/360 [==============================] - 1s 3ms/step - loss: 2.5156 - mean_squared_error: 2.5156\n",
      "Epoch 34/35\n",
      "360/360 [==============================] - 1s 3ms/step - loss: 2.5904 - mean_squared_error: 2.5904\n",
      "Epoch 35/35\n",
      "360/360 [==============================] - 1s 3ms/step - loss: 2.5758 - mean_squared_error: 2.5758\n"
     ]
    },
    {
     "data": {
      "text/plain": [
       "<keras.callbacks.History at 0x7fdfac192e10>"
      ]
     },
     "execution_count": 13,
     "metadata": {},
     "output_type": "execute_result"
    }
   ],
   "source": [
    "model.compile(loss='mean_squared_error', optimizer='adam', metrics=['mean_squared_error'])\n",
    "model.fit(X_train, y_train, epochs=35)"
   ]
  },
  {
   "cell_type": "code",
   "execution_count": 14,
   "id": "7d331c53",
   "metadata": {
    "execution": {
     "iopub.execute_input": "2023-02-28T16:42:17.713067Z",
     "iopub.status.busy": "2023-02-28T16:42:17.712576Z",
     "iopub.status.idle": "2023-02-28T16:42:19.489163Z",
     "shell.execute_reply": "2023-02-28T16:42:19.487388Z"
    },
    "papermill": {
     "duration": 1.845982,
     "end_time": "2023-02-28T16:42:19.492459",
     "exception": false,
     "start_time": "2023-02-28T16:42:17.646477",
     "status": "completed"
    },
    "tags": []
   },
   "outputs": [
    {
     "name": "stdout",
     "output_type": "stream",
     "text": [
      "360/360 [==============================] - 1s 2ms/step\n",
      "1.6003183117727144\n",
      "120/120 [==============================] - 0s 2ms/step\n",
      "1.5828766954494422\n"
     ]
    }
   ],
   "source": [
    "#predicting outcomes\n",
    "pred_train = model.predict(X_train)\n",
    "print(np.sqrt(mean_squared_error(y_train, pred_train)))\n",
    "\n",
    "pred = model.predict(X_test)\n",
    "print(np.sqrt(mean_squared_error(y_test, pred)))"
   ]
  },
  {
   "cell_type": "markdown",
   "id": "acbeab5b",
   "metadata": {
    "papermill": {
     "duration": 0.064142,
     "end_time": "2023-02-28T16:42:19.621782",
     "exception": false,
     "start_time": "2023-02-28T16:42:19.557640",
     "status": "completed"
    },
    "tags": []
   },
   "source": [
    "### Results of first model\n",
    "It appeas that the model can predict within 1.5 points the score of a game just based off the features we gave it."
   ]
  },
  {
   "cell_type": "markdown",
   "id": "eedfa544",
   "metadata": {
    "papermill": {
     "duration": 0.06471,
     "end_time": "2023-02-28T16:42:19.750765",
     "exception": false,
     "start_time": "2023-02-28T16:42:19.686055",
     "status": "completed"
    },
    "tags": []
   },
   "source": [
    "### Creating Model for Dummy Data\n",
    "Now, we will be making a model for the data with dummies created. I think this will create too much noise and won't be able to make accurate predictions."
   ]
  },
  {
   "cell_type": "code",
   "execution_count": 15,
   "id": "9887c44c",
   "metadata": {
    "execution": {
     "iopub.execute_input": "2023-02-28T16:42:19.883558Z",
     "iopub.status.busy": "2023-02-28T16:42:19.883141Z",
     "iopub.status.idle": "2023-02-28T16:43:16.663329Z",
     "shell.execute_reply": "2023-02-28T16:43:16.661721Z"
    },
    "papermill": {
     "duration": 56.848287,
     "end_time": "2023-02-28T16:43:16.666241",
     "exception": false,
     "start_time": "2023-02-28T16:42:19.817954",
     "status": "completed"
    },
    "tags": []
   },
   "outputs": [
    {
     "name": "stdout",
     "output_type": "stream",
     "text": [
      "Epoch 1/35\n",
      "360/360 [==============================] - 2s 4ms/step - loss: 154.2236 - mean_squared_error: 154.2236\n",
      "Epoch 2/35\n",
      "360/360 [==============================] - 2s 4ms/step - loss: 237.6613 - mean_squared_error: 237.6613\n",
      "Epoch 3/35\n",
      "360/360 [==============================] - 2s 4ms/step - loss: 92.0305 - mean_squared_error: 92.0305\n",
      "Epoch 4/35\n",
      "360/360 [==============================] - 2s 6ms/step - loss: 51.1834 - mean_squared_error: 51.1834\n",
      "Epoch 5/35\n",
      "360/360 [==============================] - 2s 4ms/step - loss: 29.9267 - mean_squared_error: 29.9267\n",
      "Epoch 6/35\n",
      "360/360 [==============================] - 1s 4ms/step - loss: 2.7416 - mean_squared_error: 2.7416\n",
      "Epoch 7/35\n",
      "360/360 [==============================] - 2s 4ms/step - loss: 2.5426 - mean_squared_error: 2.5426\n",
      "Epoch 8/35\n",
      "360/360 [==============================] - 2s 4ms/step - loss: 2.5818 - mean_squared_error: 2.5818\n",
      "Epoch 9/35\n",
      "360/360 [==============================] - 2s 4ms/step - loss: 2.5670 - mean_squared_error: 2.5670\n",
      "Epoch 10/35\n",
      "360/360 [==============================] - 2s 4ms/step - loss: 2.5821 - mean_squared_error: 2.5821\n",
      "Epoch 11/35\n",
      "360/360 [==============================] - 2s 5ms/step - loss: 2.5502 - mean_squared_error: 2.5502\n",
      "Epoch 12/35\n",
      "360/360 [==============================] - 2s 4ms/step - loss: 2.6711 - mean_squared_error: 2.6711\n",
      "Epoch 13/35\n",
      "360/360 [==============================] - 2s 4ms/step - loss: 2.6372 - mean_squared_error: 2.6372\n",
      "Epoch 14/35\n",
      "360/360 [==============================] - 2s 4ms/step - loss: 2.7905 - mean_squared_error: 2.7905\n",
      "Epoch 15/35\n",
      "360/360 [==============================] - 2s 4ms/step - loss: 2.6699 - mean_squared_error: 2.6699\n",
      "Epoch 16/35\n",
      "360/360 [==============================] - 2s 4ms/step - loss: 2.6288 - mean_squared_error: 2.6288\n",
      "Epoch 17/35\n",
      "360/360 [==============================] - 2s 4ms/step - loss: 2.7910 - mean_squared_error: 2.7910\n",
      "Epoch 18/35\n",
      "360/360 [==============================] - 2s 4ms/step - loss: 3.0563 - mean_squared_error: 3.0563\n",
      "Epoch 19/35\n",
      "360/360 [==============================] - 2s 5ms/step - loss: 3.8209 - mean_squared_error: 3.8209\n",
      "Epoch 20/35\n",
      "360/360 [==============================] - 2s 4ms/step - loss: 6.9885 - mean_squared_error: 6.9885\n",
      "Epoch 21/35\n",
      "360/360 [==============================] - 2s 4ms/step - loss: 6.9698 - mean_squared_error: 6.9698\n",
      "Epoch 22/35\n",
      "360/360 [==============================] - 2s 4ms/step - loss: 10.9384 - mean_squared_error: 10.9384\n",
      "Epoch 23/35\n",
      "360/360 [==============================] - 2s 5ms/step - loss: 5.0165 - mean_squared_error: 5.0165\n",
      "Epoch 24/35\n",
      "360/360 [==============================] - 2s 4ms/step - loss: 5.0047 - mean_squared_error: 5.0047\n",
      "Epoch 25/35\n",
      "360/360 [==============================] - 2s 5ms/step - loss: 5.2331 - mean_squared_error: 5.2331\n",
      "Epoch 26/35\n",
      "360/360 [==============================] - 1s 4ms/step - loss: 2.7635 - mean_squared_error: 2.7635\n",
      "Epoch 27/35\n",
      "360/360 [==============================] - 2s 4ms/step - loss: 2.5736 - mean_squared_error: 2.5736\n",
      "Epoch 28/35\n",
      "360/360 [==============================] - 2s 4ms/step - loss: 2.7441 - mean_squared_error: 2.7441\n",
      "Epoch 29/35\n",
      "360/360 [==============================] - 2s 4ms/step - loss: 2.7416 - mean_squared_error: 2.7416\n",
      "Epoch 30/35\n",
      "360/360 [==============================] - 2s 4ms/step - loss: 2.5406 - mean_squared_error: 2.5406\n",
      "Epoch 31/35\n",
      "360/360 [==============================] - 2s 4ms/step - loss: 2.7918 - mean_squared_error: 2.7918\n",
      "Epoch 32/35\n",
      "360/360 [==============================] - 2s 4ms/step - loss: 2.6995 - mean_squared_error: 2.6995\n",
      "Epoch 33/35\n",
      "360/360 [==============================] - 2s 4ms/step - loss: 4.2502 - mean_squared_error: 4.2502\n",
      "Epoch 34/35\n",
      "360/360 [==============================] - 2s 4ms/step - loss: 2.5825 - mean_squared_error: 2.5825\n",
      "Epoch 35/35\n",
      "360/360 [==============================] - 2s 5ms/step - loss: 2.7093 - mean_squared_error: 2.7093\n"
     ]
    },
    {
     "data": {
      "text/plain": [
       "<keras.callbacks.History at 0x7fdf87791790>"
      ]
     },
     "execution_count": 15,
     "metadata": {},
     "output_type": "execute_result"
    }
   ],
   "source": [
    "model_dummy = Sequential()\n",
    "model_dummy.add(Dense(500, input_dim=178, activation='relu'))\n",
    "model_dummy.add(Dense(100, activation = 'relu'))\n",
    "model_dummy.add(Dense(50, activation='relu'))\n",
    "model_dummy.add(Dense(1))\n",
    "model_dummy.compile(loss='mean_squared_error', optimizer='adam', metrics=['mean_squared_error'])\n",
    "model_dummy.fit(X_train_dummy, y_train_dummy, epochs=35)"
   ]
  },
  {
   "cell_type": "code",
   "execution_count": 16,
   "id": "e64d91e5",
   "metadata": {
    "execution": {
     "iopub.execute_input": "2023-02-28T16:43:16.952221Z",
     "iopub.status.busy": "2023-02-28T16:43:16.951610Z",
     "iopub.status.idle": "2023-02-28T16:43:18.459734Z",
     "shell.execute_reply": "2023-02-28T16:43:18.458218Z"
    },
    "papermill": {
     "duration": 1.654321,
     "end_time": "2023-02-28T16:43:18.462765",
     "exception": false,
     "start_time": "2023-02-28T16:43:16.808444",
     "status": "completed"
    },
    "tags": []
   },
   "outputs": [
    {
     "name": "stdout",
     "output_type": "stream",
     "text": [
      "360/360 [==============================] - 1s 2ms/step\n",
      "1.5851785898451933\n",
      "120/120 [==============================] - 0s 2ms/step\n",
      "1.5545228925854144\n"
     ]
    }
   ],
   "source": [
    "#predicting outcomes\n",
    "pred_train_dummy = model_dummy.predict(X_train_dummy)\n",
    "print(np.sqrt(mean_squared_error(y_train_dummy, pred_train_dummy)))\n",
    "\n",
    "pred_dummy = model_dummy.predict(X_test_dummy)\n",
    "print(np.sqrt(mean_squared_error(y_test_dummy, pred_dummy)))"
   ]
  },
  {
   "cell_type": "markdown",
   "id": "d92f66be",
   "metadata": {
    "papermill": {
     "duration": 0.137719,
     "end_time": "2023-02-28T16:43:18.740377",
     "exception": false,
     "start_time": "2023-02-28T16:43:18.602658",
     "status": "completed"
    },
    "tags": []
   },
   "source": [
    "### Conclusion\n",
    "It appears the inclussion of console data does not make much of a difference for the neural network when it came to predicting review scores. Therefore, the model without the platforms is slightly better because it ran more efficiently and gave a similar output."
   ]
  }
 ],
 "metadata": {
  "kernelspec": {
   "display_name": "Python 3",
   "language": "python",
   "name": "python3"
  },
  "language_info": {
   "codemirror_mode": {
    "name": "ipython",
    "version": 3
   },
   "file_extension": ".py",
   "mimetype": "text/x-python",
   "name": "python",
   "nbconvert_exporter": "python",
   "pygments_lexer": "ipython3",
   "version": "3.7.12"
  },
  "papermill": {
   "default_parameters": {},
   "duration": 133.030129,
   "end_time": "2023-02-28T16:43:21.815605",
   "environment_variables": {},
   "exception": null,
   "input_path": "__notebook__.ipynb",
   "output_path": "__notebook__.ipynb",
   "parameters": {},
   "start_time": "2023-02-28T16:41:08.785476",
   "version": "2.4.0"
  }
 },
 "nbformat": 4,
 "nbformat_minor": 5
}
